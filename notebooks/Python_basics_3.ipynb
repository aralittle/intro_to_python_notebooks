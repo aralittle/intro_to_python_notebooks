{
  "nbformat": 4,
  "nbformat_minor": 0,
  "metadata": {
    "colab": {
      "provenance": []
    },
    "kernelspec": {
      "name": "python3",
      "display_name": "Python 3"
    },
    "language_info": {
      "name": "python"
    }
  },
  "cells": [
    {
      "cell_type": "markdown",
      "source": [
        "# <font color=#FF1F58> Python Basics (Part III): Working with files </font>"
      ],
      "metadata": {
        "id": "AwZnF8efKWla"
      }
    },
    {
      "cell_type": "code",
      "source": [
        "## This code imports folders and files so that they are available for us to work with\n",
        "!git clone https://github.com/aralittle/intro_to_python.git"
      ],
      "metadata": {
        "id": "ifv4bk0nPGwM"
      },
      "execution_count": null,
      "outputs": []
    },
    {
      "cell_type": "code",
      "source": [
        "## do not run this, just for cleanup after demo\n",
        "!rm -rf first/\n",
        "!rm -rf intro_to_python/"
      ],
      "metadata": {
        "id": "s934U5QJB1bx"
      },
      "execution_count": null,
      "outputs": []
    },
    {
      "cell_type": "markdown",
      "source": [
        "### Opening & writing files"
      ],
      "metadata": {
        "id": "yjWVHdvxMrXi"
      }
    },
    {
      "cell_type": "code",
      "source": [
        "## recommended option to avoid having too many files opened and losing data\n",
        "with open('intro_to_python/data/data_to_read.txt', 'r') as f:\n",
        "    data = f.read()\n",
        "    print(data)\n",
        "\n",
        "print('hello')"
      ],
      "metadata": {
        "id": "8uXRSSc7O6Oe"
      },
      "execution_count": null,
      "outputs": []
    },
    {
      "cell_type": "code",
      "source": [
        "## NOT recommended option\n",
        "f = open('intro_to_python/data/data_to_read.txt', 'r')\n",
        "data = f.read()\n",
        "print(data)\n",
        "f.close()"
      ],
      "metadata": {
        "id": "mHMptwkRjaQU"
      },
      "execution_count": null,
      "outputs": []
    },
    {
      "cell_type": "code",
      "source": [
        "## write to a file\n",
        "with open('intro_to_python/data/data.txt', 'w') as f:\n",
        "  f.write('Hello world!')\n",
        "with open('intro_to_python/data/data.txt', 'r') as f:\n",
        "    data = f.read()\n",
        "    print(data)"
      ],
      "metadata": {
        "id": "Q0d1WdpLsVvV"
      },
      "execution_count": null,
      "outputs": []
    },
    {
      "cell_type": "code",
      "source": [
        "## append to a file\n",
        "with open('intro_to_python/data/data.txt', 'a') as corpus:\n",
        "  corpus.write('This is an appended line')"
      ],
      "metadata": {
        "id": "_TPIcusKMIYM"
      },
      "execution_count": null,
      "outputs": []
    },
    {
      "cell_type": "code",
      "source": [
        "with open('intro_to_python/data/data.txt', 'r') as f:\n",
        "    data = f.read()\n",
        "    print(data)"
      ],
      "metadata": {
        "id": "kVSR0wDoMsZp"
      },
      "execution_count": null,
      "outputs": []
    },
    {
      "cell_type": "markdown",
      "source": [
        "#### Specify encoding\n",
        "Find the encoding list here: https://docs.python.org/3.6/library/codecs.html#standard-encodings"
      ],
      "metadata": {
        "id": "f9sPiGj6li8L"
      }
    },
    {
      "cell_type": "code",
      "source": [
        "with open('intro_to_python/data/data_latin1.txt', 'r', encoding=\"latin1\") as f:\n",
        "    data = f.read()\n",
        "    print(data)\n"
      ],
      "metadata": {
        "id": "GrGFEXxwO6hX"
      },
      "execution_count": null,
      "outputs": []
    },
    {
      "cell_type": "code",
      "source": [
        "# if we open it with the wrong encoding it will fail (utf-8 by default in python 3)\n",
        "with open('intro_to_python/data/data_latin1.txt', 'r') as f:\n",
        "    data = f.read()\n",
        "    print(data)"
      ],
      "metadata": {
        "id": "U9kKl0oa37J-"
      },
      "execution_count": null,
      "outputs": []
    },
    {
      "cell_type": "markdown",
      "source": [
        "#### Iterate though contents"
      ],
      "metadata": {
        "id": "2zP1HXPm4KTj"
      }
    },
    {
      "cell_type": "code",
      "source": [
        "# .read() returns a string containing the whole file\n",
        "with open('intro_to_python/data/data_to_read.txt', 'r') as f:\n",
        "    data = f.read()\n",
        "print(data)\n",
        "print(type(data))"
      ],
      "metadata": {
        "id": "C93sasSS4Ukc"
      },
      "execution_count": null,
      "outputs": []
    },
    {
      "cell_type": "code",
      "source": [
        "# .readlines() returns a string containing the whole file\n",
        "with open('intro_to_python/data/data_to_read.txt', 'r') as f:\n",
        "    data = f.readlines()\n",
        "print(data)\n",
        "print(type(data))\n",
        "for line in data:\n",
        "  print(f\"working with line: {line}\")"
      ],
      "metadata": {
        "id": "PFB7QJXW4Uvr"
      },
      "execution_count": null,
      "outputs": []
    },
    {
      "cell_type": "code",
      "source": [
        "# Practice:\n",
        "# here is our document:\n",
        "document = 'intro_to_python/data/exercises.txt'\n",
        "# 0. Open the document using \".read()\" and save the contents to \"data\"\n",
        "with open('intro_to_python/data/exercises.txt', 'r') as f:\n",
        "    data = f.read()\n",
        "print(data)\n",
        "# 1. Open the document using \".readlines()\" and save the contents to \"datalines\"\n",
        "with open('intro_to_python/data/exercises.txt', 'r') as f:\n",
        "    datalines = f.readlines()\n",
        "print(datalines)"
      ],
      "metadata": {
        "id": "pCNdO2bE8bKJ"
      },
      "execution_count": null,
      "outputs": []
    },
    {
      "cell_type": "code",
      "source": [
        "# 2. How many times does <unk> appear in the document?\n",
        "#    Hint1: if you want to search in the whole document use the \"data\" variable that you just created\n",
        "#    Hint2: You can use the \"count\" method (check notebook 2 or https://www.programiz.com/python-programming/methods/string/count)\n",
        "\n",
        "\n",
        "# 3. Where is the <unk> sequence present for the first time?\n",
        "#    Hint1: if you want to search in the whole document use the \"data\" variable that you just created\n",
        "#    Hint2: You can use the \"find\" method (check notebook 2 or https://www.programiz.com/python-programming/methods/string/find)\n",
        "\n",
        "\n",
        "\n",
        "# 4. Remove all the <unk> in the sentence\n",
        "#    Hint1: if you want to search in the whole document use the \"data\" variable that you just created\n",
        "#    Hint2: You can use the \"replace\" method (check notebook 2 or https://www.programiz.com/python-programming/methods/string/replace)\n",
        "\n",
        "\n",
        "# 5. Remove the possible (extra) newlines, spaces, \\r characters... at the end of each sentence\n",
        "#    Hint1: in this case you need to go line by line, use the \"datalines\" variable that you just created\n",
        "#    Hint2: You can use the \"rstrip\" method (check notebook 2 or https://www.programiz.com/python-programming/methods/string/rstrip)\n",
        "#    Hint3: Use a for loop (we saw it before)\n",
        "\n",
        "\n",
        "## !! remember that these operations wont change the string unless you save it using another variable\n",
        "# 6. Remove all the <unk> in the sentence, using the data variable, this time save the result to another variable\n"
      ],
      "metadata": {
        "id": "tTMJIeJ44U3i"
      },
      "execution_count": null,
      "outputs": []
    },
    {
      "cell_type": "markdown",
      "source": [
        "### Working with directories"
      ],
      "metadata": {
        "id": "xDmH0D9oM3KJ"
      }
    },
    {
      "cell_type": "code",
      "source": [
        "# list contents of a directory\n",
        "import os\n",
        "entries = os.listdir('intro_to_python/data')\n",
        "print(entries)"
      ],
      "metadata": {
        "id": "-lL96TViFQrJ"
      },
      "execution_count": null,
      "outputs": []
    },
    {
      "cell_type": "code",
      "source": [
        "# create directories and directory trees\n",
        "os.makedirs('first/second/third')"
      ],
      "metadata": {
        "id": "nZu0d_s9FQ4j"
      },
      "execution_count": null,
      "outputs": []
    },
    {
      "cell_type": "markdown",
      "source": [
        "#### Transversing directories"
      ],
      "metadata": {
        "id": "rumkbnluNOQn"
      }
    },
    {
      "cell_type": "code",
      "source": [
        "# os.walk() returns three values on each iteration of the loop:\n",
        "# - The name of the current folder\n",
        "# - A list of folders in the current folder\n",
        "# - A list of files in the current folder\n",
        "# official documentation: https://docs.python.org/3/library/os.html#os.walk\n",
        "for dirpath, dirnames, files in os.walk('intro_to_python/data'):\n",
        "    print(f'I am in: {dirpath}')\n",
        "    print(f'Directores at my current location: {dirnames}')\n",
        "    for file_name in files:\n",
        "        print(file_name)"
      ],
      "metadata": {
        "id": "2Rqk0oyRO-1P"
      },
      "execution_count": null,
      "outputs": []
    },
    {
      "cell_type": "code",
      "source": [
        "# process all of these files using \"os.path.join\"\n",
        "for dirpath, dirnames, files in os.walk('intro_to_python/data'):\n",
        "    for file_name in files:\n",
        "      if not 'latin1.txt' in file_name:\n",
        "        with open(os.path.join(dirpath, file_name), \"r\") as f:\n",
        "          contents = f.read()\n",
        "          new_contents = contents.upper()\n",
        "          print(f\"--> Processing {file_name} :\")\n",
        "          print(new_contents)\n"
      ],
      "metadata": {
        "id": "iA68sC9XKZM9"
      },
      "execution_count": null,
      "outputs": []
    },
    {
      "cell_type": "code",
      "source": [
        "# Practice: you have your data in data_latin1.txt somewhere within \"intro_to_python/data\" and you want to process\n",
        "# it (do some modification: remove characters, change to upper case, etc.)\n",
        "# and save it all to another file\n"
      ],
      "metadata": {
        "id": "i22QbZJ1RXqz"
      },
      "execution_count": null,
      "outputs": []
    }
  ]
}