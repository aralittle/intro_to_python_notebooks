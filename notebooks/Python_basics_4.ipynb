{
  "nbformat": 4,
  "nbformat_minor": 0,
  "metadata": {
    "colab": {
      "provenance": []
    },
    "kernelspec": {
      "name": "python3",
      "display_name": "Python 3"
    },
    "language_info": {
      "name": "python"
    }
  },
  "cells": [
    {
      "cell_type": "markdown",
      "source": [
        "# <font color=#FF1F58> Python Basics (Part IV): functions </font>\n"
      ],
      "metadata": {
        "id": "r4bqI8NLCKtS"
      }
    },
    {
      "cell_type": "code",
      "source": [
        "## This code imports folders and files so that they are available for us to work with\n",
        "!git clone https://github.com/aralittle/intro_to_python.git"
      ],
      "metadata": {
        "id": "ifv4bk0nPGwM",
        "colab": {
          "base_uri": "https://localhost:8080/"
        },
        "outputId": "a2aef321-3fcb-47f1-9a41-a9eed0781a84"
      },
      "execution_count": null,
      "outputs": [
        {
          "output_type": "stream",
          "name": "stdout",
          "text": [
            "Cloning into 'intro_to_python'...\n",
            "remote: Enumerating objects: 51, done.\u001b[K\n",
            "remote: Counting objects: 100% (51/51), done.\u001b[K\n",
            "remote: Compressing objects: 100% (35/35), done.\u001b[K\n",
            "remote: Total 51 (delta 26), reused 34 (delta 12), pack-reused 0\u001b[K\n",
            "Receiving objects: 100% (51/51), 124.47 KiB | 1003.00 KiB/s, done.\n",
            "Resolving deltas: 100% (26/26), done.\n"
          ]
        }
      ]
    },
    {
      "cell_type": "code",
      "source": [
        "## do not run this, just for cleanup\n",
        "!rm -rf intro_to_python/"
      ],
      "metadata": {
        "id": "9dH9wbLYwCID"
      },
      "execution_count": null,
      "outputs": []
    },
    {
      "cell_type": "markdown",
      "source": [
        "###Python functions"
      ],
      "metadata": {
        "id": "TYe3WpQLVjZ-"
      }
    },
    {
      "cell_type": "markdown",
      "source": [
        "A function is a block of code that encapsulates a specific task."
      ],
      "metadata": {
        "id": "YgCQXeqytFj_"
      }
    },
    {
      "cell_type": "code",
      "source": [
        "# built-in functions\n",
        "print('hello world')\n",
        "type(3)"
      ],
      "metadata": {
        "id": "XOB_JEcOVrhH"
      },
      "execution_count": null,
      "outputs": []
    },
    {
      "cell_type": "markdown",
      "source": [
        "User defined functions: If you want to create your own function you need to define:\n",
        "- which arguments a python function takes (if any)\n",
        "- which values a python function returns (if any)\n",
        "\n"
      ],
      "metadata": {
        "id": "9isCuVK6Xtrm"
      }
    },
    {
      "cell_type": "code",
      "source": [
        "def name_of_the_function(argument1, argument2, ...):\n",
        "  # perform the task\n",
        "  return something, something_else"
      ],
      "metadata": {
        "id": "E7LCuQNcZQt4"
      },
      "execution_count": null,
      "outputs": []
    },
    {
      "cell_type": "code",
      "source": [
        "# this function does not return anything\n",
        "def calculate_price(product_name, quantity, price_per_kilo):\n",
        "  final_price = quantity * price_per_kilo\n",
        "  print(f\"The cost of {product_name} is {final_price}\")"
      ],
      "metadata": {
        "id": "lwWPktvIZwsy"
      },
      "execution_count": null,
      "outputs": []
    },
    {
      "cell_type": "code",
      "source": [
        "calculate_price('bananas', 3, 1.50)"
      ],
      "metadata": {
        "id": "QtCATsG5b_EG",
        "colab": {
          "base_uri": "https://localhost:8080/"
        },
        "outputId": "7cce52e9-21da-4744-e863-4087069adc9a"
      },
      "execution_count": null,
      "outputs": [
        {
          "output_type": "stream",
          "name": "stdout",
          "text": [
            "The cost of bananas is 4.5\n"
          ]
        }
      ]
    },
    {
      "cell_type": "code",
      "source": [
        "# this function returns a number\n",
        "def sum_numbers(first_number, second_number):\n",
        "  sum = first_number + second_number\n",
        "  return sum"
      ],
      "metadata": {
        "id": "JKCR42AoaJwI"
      },
      "execution_count": null,
      "outputs": []
    },
    {
      "cell_type": "code",
      "source": [
        "result = sum_numbers(2,5)\n",
        "print(result)"
      ],
      "metadata": {
        "id": "MFsytejQb9o5",
        "colab": {
          "base_uri": "https://localhost:8080/"
        },
        "outputId": "be0fa8fd-4df6-4dd2-fdf0-fd4abe0f7d96"
      },
      "execution_count": null,
      "outputs": [
        {
          "output_type": "stream",
          "name": "stdout",
          "text": [
            "7\n"
          ]
        }
      ]
    },
    {
      "cell_type": "markdown",
      "source": [
        "In general the position of the arguments should be the same in the function definition and in the function call, unless you use keyword arguments"
      ],
      "metadata": {
        "id": "-IwHPuhvAZYx"
      }
    },
    {
      "cell_type": "code",
      "source": [
        "# you can use keywords to call a function and you can disregard order\n",
        "calculate_price(product_name='apples', quantity=2, price_per_kilo=2.5)\n",
        "calculate_price(quantity=2, product_name='grapes', price_per_kilo=4.5)"
      ],
      "metadata": {
        "colab": {
          "base_uri": "https://localhost:8080/"
        },
        "id": "QxhYNxj8mmN7",
        "outputId": "f5ee9de5-4896-42d7-d7cc-526e4f856ce6"
      },
      "execution_count": null,
      "outputs": [
        {
          "output_type": "stream",
          "name": "stdout",
          "text": [
            "The cost of apples is 5.0\n",
            "The cost of grapes is 9.0\n",
            "The cost of kiwis is 10.5\n"
          ]
        }
      ]
    },
    {
      "cell_type": "code",
      "source": [
        "# you can define default values in your function\n",
        "def calculate_price(product_name='pears', quantity=1, price_per_kilo=1.90):\n",
        "  final_price = quantity * price_per_kilo\n",
        "  print(f\"The cost of {product_name} is {final_price}\")\n",
        "calculate_price()\n",
        "calculate_price(product_name='red pears', price_per_kilo=2000)"
      ],
      "metadata": {
        "colab": {
          "base_uri": "https://localhost:8080/"
        },
        "id": "l9Ffh-vrndxX",
        "outputId": "2d092aca-07f4-4064-e73a-82a42349eb23"
      },
      "execution_count": null,
      "outputs": [
        {
          "output_type": "stream",
          "name": "stdout",
          "text": [
            "The cost of pears is 1.9\n",
            "The cost of red pears is 1.9\n"
          ]
        }
      ]
    },
    {
      "cell_type": "markdown",
      "source": [
        "Why should you write functions?\n",
        "- Divide the job into manageable steps: break long scripts that perform complex processes into units that are easier to define, understand and debug. Ideally, each funcion should only **perform one task**\n",
        "- Reuse code: you can write functions in such a way that you can reuse them if needed\n",
        "\n"
      ],
      "metadata": {
        "id": "vAISs6eeV5uc"
      }
    },
    {
      "cell_type": "code",
      "source": [
        "#open an original Word document, iterates through the paragraphs and tables,\n",
        "#replaces any occurrences of 'placeholder' text with 'new text',\n",
        "#replaces occurrences of 'date' text with the current date\n",
        "#and then saves the modified document to a new file\n",
        "import docx\n",
        "import datetime\n",
        "\n",
        "original_doc = docx.Document('original.docx')\n",
        "today = datetime.date.today()\n",
        "\n",
        "for para in original_doc.paragraphs:\n",
        "    if 'placeholder' in para.text:\n",
        "        para.text = para.text.replace('placeholder', 'new text')\n",
        "\n",
        "for table in original_doc.tables:\n",
        "    for row in table.rows:\n",
        "        for cell in row.cells:\n",
        "            if 'placeholder' in cell.text:\n",
        "                cell.text = cell.text.replace('placeholder', 'new text')\n",
        "\n",
        "for para in original_doc.paragraphs:\n",
        "    if 'date' in para.text:\n",
        "        para.text = para.text.replace('date', today.strftime(\"%B %d, %Y\"))\n",
        "\n",
        "for table in original_doc.tables:\n",
        "    for row in table.rows:\n",
        "        for cell in row.cells:\n",
        "            if 'date' in cell.text:\n",
        "                cell.text = cell.text.replace('date', today.strftime(\"%B %d, %Y\"))\n",
        "\n",
        "original_doc.save('modified.docx')"
      ],
      "metadata": {
        "id": "K_TIOdLJXuzF"
      },
      "execution_count": null,
      "outputs": []
    },
    {
      "cell_type": "code",
      "source": [
        "#open an original Word document, iterates through the paragraphs and tables,\n",
        "#replaces any occurrences of 'placeholder' text with 'new text',\n",
        "#replaces occurrences of 'date' text with the current date\n",
        "#and then saves the modified document to a new file\n",
        "\n",
        "import datetime\n",
        "import docx\n",
        "\n",
        "# Function to open Word document\n",
        "def open_doc(file):\n",
        "    doc = docx.Document(file)\n",
        "    return doc\n",
        "\n",
        "# Function to replace text\n",
        "def replace_text(doc, old_text, new_text):\n",
        "    for para in doc.paragraphs:\n",
        "        if old_text in para.text:\n",
        "            para.text = para.text.replace(old_text, new_text)\n",
        "\n",
        "    for table in doc.tables:\n",
        "        for row in table.rows:\n",
        "            for cell in row.cells:\n",
        "                if old_text in cell.text:\n",
        "                    cell.text = cell.text.replace(old_text, new_text)\n",
        "    return doc\n",
        "\n",
        "# Function to save Word document\n",
        "def save_doc(doc, file):\n",
        "    doc.save(file)\n",
        "\n",
        "# Main function\n",
        "def main():\n",
        "    today = datetime.date.today()\n",
        "    original_doc = open_doc('original.docx')\n",
        "    modified_doc = replace_text(original_doc, 'placeholder', 'new text')\n",
        "    modified_doc_with_date = replace_text(modified_doc, 'date', today)\n",
        "    save_doc(modified_doc_with_date, 'modified.docx')\n",
        "\n",
        "\n",
        "main()"
      ],
      "metadata": {
        "id": "b5bwsDnBYujZ"
      },
      "execution_count": null,
      "outputs": []
    },
    {
      "cell_type": "markdown",
      "source": [
        "### Activity to practice with functions and opening files, working with the contents and saving those contents."
      ],
      "metadata": {
        "id": "g0nNNYGv0F9U"
      }
    },
    {
      "cell_type": "markdown",
      "source": [
        "Remember:\n",
        "- How to work with files: https://colab.research.google.com/drive/1CZCirGQevXg71lG_fTA5nxVydEdcYIXH?usp=sharing\n",
        "- How to work with strings: https://colab.research.google.com/drive/1rLFDBzZtFDtAdVX4W0SIxbWHwCUFA16-?usp=sharing"
      ],
      "metadata": {
        "id": "cAIwpMrs5N3J"
      }
    },
    {
      "cell_type": "code",
      "source": [
        "# 1. open activities_python_4.txt using \"latin-1\" or \"iso-8859\" encodings (they're the same) so that the contents are loaded as a list\n",
        "# 2. Complete the text cleaning function\n",
        "# 2.1 remove the initial numeration --> this will be easier once we learn how to do it with regex\n",
        "# 2.2 remove punctuation and symbols such as \"*\",\"$>\".... --> this will be easier once we learn how to do it with regex\n",
        "# 2.3 make sure there are no spaces at the beginning or end of the lines\n",
        "# 2.4 make sure there are no double spaces between the words\n",
        "# 2.5. pass the text to lowercase\n",
        "# 3. save the cleaned text contents to a new document with an encoding of your choosing"
      ],
      "metadata": {
        "id": "iRgZJEglCIvd"
      },
      "execution_count": null,
      "outputs": []
    },
    {
      "cell_type": "code",
      "source": [
        "def clean_lines(list_of_corpus_lines):\n",
        "  print(\"I'm being called!\")\n",
        "  cleaned_lines = []\n",
        "\n",
        "  for line in list_of_corpus_lines:\n",
        "    # --> Your code for corpus cleaning goes here\n",
        "    line = line[7:]\n",
        "    line = line.replace('.', '').replace('?','').replace('<$','').replace('*','').replace('$>','')\n",
        "    line = line.strip()\n",
        "    line = line.replace('  ', ' ')\n",
        "    line = line.lowercase()\n",
        "    print(line)\n",
        "\n",
        "    # --> Your code for corpus cleaning ends here\n",
        "    if line:\n",
        "      cleaned_lines.append(line)\n",
        "  # --> Complete the following line to **convert the list to a string**:\n",
        "  cleaned_lines_string = 'delete this and add code here'\n",
        "\n",
        "  return cleaned_lines_string\n",
        "\n",
        "# Your code for corpus opening goes here\n",
        "list_of_corpus_lines = open('/content/intro_to_python/data/activities_python_4.txt', encoding='latin-1').readlines()\n",
        "cleaned_lines = clean_lines(list_of_corpus_lines)\n",
        "# Your code for saving the corpus to a file goes here\n",
        "\n"
      ],
      "metadata": {
        "id": "828g20IIwtnh",
        "colab": {
          "base_uri": "https://localhost:8080/",
          "height": 383
        },
        "outputId": "504bbb99-90ce-4dbc-9f70-00e287688ffe"
      },
      "execution_count": null,
      "outputs": [
        {
          "output_type": "stream",
          "name": "stdout",
          "text": [
            "I'm being called!\n"
          ]
        },
        {
          "output_type": "error",
          "ename": "AttributeError",
          "evalue": "ignored",
          "traceback": [
            "\u001b[0;31m---------------------------------------------------------------------------\u001b[0m",
            "\u001b[0;31mAttributeError\u001b[0m                            Traceback (most recent call last)",
            "\u001b[0;32m<ipython-input-21-9584ebfe992d>\u001b[0m in \u001b[0;36m<cell line: 24>\u001b[0;34m()\u001b[0m\n\u001b[1;32m     22\u001b[0m \u001b[0;31m# Your code for corpus opening goes here\u001b[0m\u001b[0;34m\u001b[0m\u001b[0;34m\u001b[0m\u001b[0m\n\u001b[1;32m     23\u001b[0m \u001b[0mlist_of_corpus_lines\u001b[0m \u001b[0;34m=\u001b[0m \u001b[0mopen\u001b[0m\u001b[0;34m(\u001b[0m\u001b[0;34m'/content/intro_to_python/data/activities_python_4.txt'\u001b[0m\u001b[0;34m,\u001b[0m \u001b[0mencoding\u001b[0m\u001b[0;34m=\u001b[0m\u001b[0;34m'latin-1'\u001b[0m\u001b[0;34m)\u001b[0m\u001b[0;34m.\u001b[0m\u001b[0mreadlines\u001b[0m\u001b[0;34m(\u001b[0m\u001b[0;34m)\u001b[0m\u001b[0;34m\u001b[0m\u001b[0;34m\u001b[0m\u001b[0m\n\u001b[0;32m---> 24\u001b[0;31m \u001b[0mcleaned_lines\u001b[0m \u001b[0;34m=\u001b[0m \u001b[0mclean_lines\u001b[0m\u001b[0;34m(\u001b[0m\u001b[0mlist_of_corpus_lines\u001b[0m\u001b[0;34m)\u001b[0m\u001b[0;34m\u001b[0m\u001b[0;34m\u001b[0m\u001b[0m\n\u001b[0m\u001b[1;32m     25\u001b[0m \u001b[0;31m# Your code for saving the corpus to a file goes here\u001b[0m\u001b[0;34m\u001b[0m\u001b[0;34m\u001b[0m\u001b[0m\n\u001b[1;32m     26\u001b[0m \u001b[0;34m\u001b[0m\u001b[0m\n",
            "\u001b[0;32m<ipython-input-21-9584ebfe992d>\u001b[0m in \u001b[0;36mclean_lines\u001b[0;34m(list_of_corpus_lines)\u001b[0m\n\u001b[1;32m      9\u001b[0m     \u001b[0mline\u001b[0m \u001b[0;34m=\u001b[0m \u001b[0mline\u001b[0m\u001b[0;34m.\u001b[0m\u001b[0mstrip\u001b[0m\u001b[0;34m(\u001b[0m\u001b[0;34m)\u001b[0m\u001b[0;34m\u001b[0m\u001b[0;34m\u001b[0m\u001b[0m\n\u001b[1;32m     10\u001b[0m     \u001b[0mline\u001b[0m \u001b[0;34m=\u001b[0m \u001b[0mline\u001b[0m\u001b[0;34m.\u001b[0m\u001b[0mreplace\u001b[0m\u001b[0;34m(\u001b[0m\u001b[0;34m'  '\u001b[0m\u001b[0;34m,\u001b[0m \u001b[0;34m' '\u001b[0m\u001b[0;34m)\u001b[0m\u001b[0;34m\u001b[0m\u001b[0;34m\u001b[0m\u001b[0m\n\u001b[0;32m---> 11\u001b[0;31m     \u001b[0mline\u001b[0m \u001b[0;34m=\u001b[0m \u001b[0mline\u001b[0m\u001b[0;34m.\u001b[0m\u001b[0mlowercase\u001b[0m\u001b[0;34m(\u001b[0m\u001b[0;34m)\u001b[0m\u001b[0;34m\u001b[0m\u001b[0;34m\u001b[0m\u001b[0m\n\u001b[0m\u001b[1;32m     12\u001b[0m     \u001b[0mprint\u001b[0m\u001b[0;34m(\u001b[0m\u001b[0mline\u001b[0m\u001b[0;34m)\u001b[0m\u001b[0;34m\u001b[0m\u001b[0;34m\u001b[0m\u001b[0m\n\u001b[1;32m     13\u001b[0m \u001b[0;34m\u001b[0m\u001b[0m\n",
            "\u001b[0;31mAttributeError\u001b[0m: 'str' object has no attribute 'lowercase'"
          ]
        }
      ]
    }
  ]
}